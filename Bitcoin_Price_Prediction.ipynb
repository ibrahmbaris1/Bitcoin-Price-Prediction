{
 "cells": [
  {
   "cell_type": "markdown",
   "metadata": {},
   "source": [
    "# Bitcoin Price Prediction #"
   ]
  },
  {
   "cell_type": "code",
   "execution_count": 1,
   "metadata": {},
   "outputs": [],
   "source": [
    "#Gerekli kütüphanelerin eklenmesi"
   ]
  },
  {
   "cell_type": "code",
   "execution_count": 2,
   "metadata": {},
   "outputs": [],
   "source": [
    "import numpy as np\n",
    "import pandas as pd\n",
    "import matplotlib.pyplot as plt\n",
    "import seaborn as sns\n"
   ]
  },
  {
   "cell_type": "code",
   "execution_count": 3,
   "metadata": {},
   "outputs": [],
   "source": [
    "df=pd.read_csv(\"BTC-USD.csv\") #veri setinin okunması"
   ]
  },
  {
   "cell_type": "code",
   "execution_count": 4,
   "metadata": {},
   "outputs": [
    {
     "data": {
      "text/html": [
       "<div>\n",
       "<style scoped>\n",
       "    .dataframe tbody tr th:only-of-type {\n",
       "        vertical-align: middle;\n",
       "    }\n",
       "\n",
       "    .dataframe tbody tr th {\n",
       "        vertical-align: top;\n",
       "    }\n",
       "\n",
       "    .dataframe thead th {\n",
       "        text-align: right;\n",
       "    }\n",
       "</style>\n",
       "<table border=\"1\" class=\"dataframe\">\n",
       "  <thead>\n",
       "    <tr style=\"text-align: right;\">\n",
       "      <th></th>\n",
       "      <th>Date</th>\n",
       "      <th>Open</th>\n",
       "      <th>High</th>\n",
       "      <th>Low</th>\n",
       "      <th>Close</th>\n",
       "      <th>Adj Close</th>\n",
       "      <th>Volume</th>\n",
       "    </tr>\n",
       "  </thead>\n",
       "  <tbody>\n",
       "    <tr>\n",
       "      <th>0</th>\n",
       "      <td>2020-11-06</td>\n",
       "      <td>15579.729492</td>\n",
       "      <td>15903.437500</td>\n",
       "      <td>15226.839844</td>\n",
       "      <td>15565.880859</td>\n",
       "      <td>15565.880859</td>\n",
       "      <td>39837841971</td>\n",
       "    </tr>\n",
       "    <tr>\n",
       "      <th>1</th>\n",
       "      <td>2020-11-07</td>\n",
       "      <td>15565.880859</td>\n",
       "      <td>15737.095703</td>\n",
       "      <td>14423.203125</td>\n",
       "      <td>14833.753906</td>\n",
       "      <td>14833.753906</td>\n",
       "      <td>35024953706</td>\n",
       "    </tr>\n",
       "    <tr>\n",
       "      <th>2</th>\n",
       "      <td>2020-11-08</td>\n",
       "      <td>14833.753906</td>\n",
       "      <td>15637.320313</td>\n",
       "      <td>14744.110352</td>\n",
       "      <td>15479.567383</td>\n",
       "      <td>15479.567383</td>\n",
       "      <td>26632075029</td>\n",
       "    </tr>\n",
       "    <tr>\n",
       "      <th>3</th>\n",
       "      <td>2020-11-09</td>\n",
       "      <td>15479.595703</td>\n",
       "      <td>15785.136719</td>\n",
       "      <td>14865.529297</td>\n",
       "      <td>15332.315430</td>\n",
       "      <td>15332.315430</td>\n",
       "      <td>34149115566</td>\n",
       "    </tr>\n",
       "    <tr>\n",
       "      <th>4</th>\n",
       "      <td>2020-11-10</td>\n",
       "      <td>15332.350586</td>\n",
       "      <td>15450.329102</td>\n",
       "      <td>15124.959961</td>\n",
       "      <td>15290.902344</td>\n",
       "      <td>15290.902344</td>\n",
       "      <td>25574938143</td>\n",
       "    </tr>\n",
       "    <tr>\n",
       "      <th>...</th>\n",
       "      <td>...</td>\n",
       "      <td>...</td>\n",
       "      <td>...</td>\n",
       "      <td>...</td>\n",
       "      <td>...</td>\n",
       "      <td>...</td>\n",
       "      <td>...</td>\n",
       "    </tr>\n",
       "    <tr>\n",
       "      <th>361</th>\n",
       "      <td>2021-11-02</td>\n",
       "      <td>60963.253906</td>\n",
       "      <td>64242.792969</td>\n",
       "      <td>60673.054688</td>\n",
       "      <td>63226.402344</td>\n",
       "      <td>63226.402344</td>\n",
       "      <td>37746665647</td>\n",
       "    </tr>\n",
       "    <tr>\n",
       "      <th>362</th>\n",
       "      <td>2021-11-03</td>\n",
       "      <td>63254.335938</td>\n",
       "      <td>63516.937500</td>\n",
       "      <td>61184.238281</td>\n",
       "      <td>62970.046875</td>\n",
       "      <td>62970.046875</td>\n",
       "      <td>36124731509</td>\n",
       "    </tr>\n",
       "    <tr>\n",
       "      <th>363</th>\n",
       "      <td>2021-11-04</td>\n",
       "      <td>62941.804688</td>\n",
       "      <td>63123.289063</td>\n",
       "      <td>60799.664063</td>\n",
       "      <td>61452.230469</td>\n",
       "      <td>61452.230469</td>\n",
       "      <td>32615846901</td>\n",
       "    </tr>\n",
       "    <tr>\n",
       "      <th>364</th>\n",
       "      <td>2021-11-05</td>\n",
       "      <td>61460.078125</td>\n",
       "      <td>62541.468750</td>\n",
       "      <td>60844.609375</td>\n",
       "      <td>61125.675781</td>\n",
       "      <td>61125.675781</td>\n",
       "      <td>30605102446</td>\n",
       "    </tr>\n",
       "    <tr>\n",
       "      <th>365</th>\n",
       "      <td>2021-11-06</td>\n",
       "      <td>60993.109375</td>\n",
       "      <td>61560.304688</td>\n",
       "      <td>60165.253906</td>\n",
       "      <td>60698.382813</td>\n",
       "      <td>60698.382813</td>\n",
       "      <td>29695062016</td>\n",
       "    </tr>\n",
       "  </tbody>\n",
       "</table>\n",
       "<p>366 rows × 7 columns</p>\n",
       "</div>"
      ],
      "text/plain": [
       "           Date          Open          High           Low         Close  \\\n",
       "0    2020-11-06  15579.729492  15903.437500  15226.839844  15565.880859   \n",
       "1    2020-11-07  15565.880859  15737.095703  14423.203125  14833.753906   \n",
       "2    2020-11-08  14833.753906  15637.320313  14744.110352  15479.567383   \n",
       "3    2020-11-09  15479.595703  15785.136719  14865.529297  15332.315430   \n",
       "4    2020-11-10  15332.350586  15450.329102  15124.959961  15290.902344   \n",
       "..          ...           ...           ...           ...           ...   \n",
       "361  2021-11-02  60963.253906  64242.792969  60673.054688  63226.402344   \n",
       "362  2021-11-03  63254.335938  63516.937500  61184.238281  62970.046875   \n",
       "363  2021-11-04  62941.804688  63123.289063  60799.664063  61452.230469   \n",
       "364  2021-11-05  61460.078125  62541.468750  60844.609375  61125.675781   \n",
       "365  2021-11-06  60993.109375  61560.304688  60165.253906  60698.382813   \n",
       "\n",
       "        Adj Close       Volume  \n",
       "0    15565.880859  39837841971  \n",
       "1    14833.753906  35024953706  \n",
       "2    15479.567383  26632075029  \n",
       "3    15332.315430  34149115566  \n",
       "4    15290.902344  25574938143  \n",
       "..            ...          ...  \n",
       "361  63226.402344  37746665647  \n",
       "362  62970.046875  36124731509  \n",
       "363  61452.230469  32615846901  \n",
       "364  61125.675781  30605102446  \n",
       "365  60698.382813  29695062016  \n",
       "\n",
       "[366 rows x 7 columns]"
      ]
     },
     "execution_count": 4,
     "metadata": {},
     "output_type": "execute_result"
    }
   ],
   "source": [
    "df"
   ]
  },
  {
   "cell_type": "code",
   "execution_count": 5,
   "metadata": {},
   "outputs": [
    {
     "name": "stdout",
     "output_type": "stream",
     "text": [
      "<class 'pandas.core.frame.DataFrame'>\n",
      "RangeIndex: 366 entries, 0 to 365\n",
      "Data columns (total 7 columns):\n",
      " #   Column     Non-Null Count  Dtype  \n",
      "---  ------     --------------  -----  \n",
      " 0   Date       366 non-null    object \n",
      " 1   Open       366 non-null    float64\n",
      " 2   High       366 non-null    float64\n",
      " 3   Low        366 non-null    float64\n",
      " 4   Close      366 non-null    float64\n",
      " 5   Adj Close  366 non-null    float64\n",
      " 6   Volume     366 non-null    int64  \n",
      "dtypes: float64(5), int64(1), object(1)\n",
      "memory usage: 20.1+ KB\n"
     ]
    }
   ],
   "source": [
    "df.info() #verimiz hakkında birtakım bilgilere ulaştık"
   ]
  },
  {
   "cell_type": "code",
   "execution_count": 6,
   "metadata": {},
   "outputs": [
    {
     "data": {
      "text/html": [
       "<div>\n",
       "<style scoped>\n",
       "    .dataframe tbody tr th:only-of-type {\n",
       "        vertical-align: middle;\n",
       "    }\n",
       "\n",
       "    .dataframe tbody tr th {\n",
       "        vertical-align: top;\n",
       "    }\n",
       "\n",
       "    .dataframe thead th {\n",
       "        text-align: right;\n",
       "    }\n",
       "</style>\n",
       "<table border=\"1\" class=\"dataframe\">\n",
       "  <thead>\n",
       "    <tr style=\"text-align: right;\">\n",
       "      <th></th>\n",
       "      <th>Date</th>\n",
       "      <th>Open</th>\n",
       "      <th>High</th>\n",
       "      <th>Low</th>\n",
       "      <th>Close</th>\n",
       "      <th>Adj Close</th>\n",
       "      <th>Volume</th>\n",
       "    </tr>\n",
       "  </thead>\n",
       "  <tbody>\n",
       "    <tr>\n",
       "      <th>0</th>\n",
       "      <td>2020-11-06</td>\n",
       "      <td>15579.729492</td>\n",
       "      <td>15903.437500</td>\n",
       "      <td>15226.839844</td>\n",
       "      <td>15565.880859</td>\n",
       "      <td>15565.880859</td>\n",
       "      <td>39837841971</td>\n",
       "    </tr>\n",
       "    <tr>\n",
       "      <th>1</th>\n",
       "      <td>2020-11-07</td>\n",
       "      <td>15565.880859</td>\n",
       "      <td>15737.095703</td>\n",
       "      <td>14423.203125</td>\n",
       "      <td>14833.753906</td>\n",
       "      <td>14833.753906</td>\n",
       "      <td>35024953706</td>\n",
       "    </tr>\n",
       "    <tr>\n",
       "      <th>2</th>\n",
       "      <td>2020-11-08</td>\n",
       "      <td>14833.753906</td>\n",
       "      <td>15637.320313</td>\n",
       "      <td>14744.110352</td>\n",
       "      <td>15479.567383</td>\n",
       "      <td>15479.567383</td>\n",
       "      <td>26632075029</td>\n",
       "    </tr>\n",
       "    <tr>\n",
       "      <th>3</th>\n",
       "      <td>2020-11-09</td>\n",
       "      <td>15479.595703</td>\n",
       "      <td>15785.136719</td>\n",
       "      <td>14865.529297</td>\n",
       "      <td>15332.315430</td>\n",
       "      <td>15332.315430</td>\n",
       "      <td>34149115566</td>\n",
       "    </tr>\n",
       "    <tr>\n",
       "      <th>4</th>\n",
       "      <td>2020-11-10</td>\n",
       "      <td>15332.350586</td>\n",
       "      <td>15450.329102</td>\n",
       "      <td>15124.959961</td>\n",
       "      <td>15290.902344</td>\n",
       "      <td>15290.902344</td>\n",
       "      <td>25574938143</td>\n",
       "    </tr>\n",
       "    <tr>\n",
       "      <th>5</th>\n",
       "      <td>2020-11-11</td>\n",
       "      <td>15290.909180</td>\n",
       "      <td>15916.260742</td>\n",
       "      <td>15290.006836</td>\n",
       "      <td>15701.339844</td>\n",
       "      <td>15701.339844</td>\n",
       "      <td>29772374934</td>\n",
       "    </tr>\n",
       "    <tr>\n",
       "      <th>6</th>\n",
       "      <td>2020-11-12</td>\n",
       "      <td>15701.298828</td>\n",
       "      <td>16305.003906</td>\n",
       "      <td>15534.771484</td>\n",
       "      <td>16276.343750</td>\n",
       "      <td>16276.343750</td>\n",
       "      <td>34175758344</td>\n",
       "    </tr>\n",
       "    <tr>\n",
       "      <th>7</th>\n",
       "      <td>2020-11-13</td>\n",
       "      <td>16276.440430</td>\n",
       "      <td>16463.177734</td>\n",
       "      <td>15992.152344</td>\n",
       "      <td>16317.808594</td>\n",
       "      <td>16317.808594</td>\n",
       "      <td>31599492172</td>\n",
       "    </tr>\n",
       "    <tr>\n",
       "      <th>8</th>\n",
       "      <td>2020-11-14</td>\n",
       "      <td>16317.808594</td>\n",
       "      <td>16317.808594</td>\n",
       "      <td>15749.193359</td>\n",
       "      <td>16068.138672</td>\n",
       "      <td>16068.138672</td>\n",
       "      <td>27481710135</td>\n",
       "    </tr>\n",
       "    <tr>\n",
       "      <th>9</th>\n",
       "      <td>2020-11-15</td>\n",
       "      <td>16068.139648</td>\n",
       "      <td>16123.110352</td>\n",
       "      <td>15793.534180</td>\n",
       "      <td>15955.587891</td>\n",
       "      <td>15955.587891</td>\n",
       "      <td>23653867583</td>\n",
       "    </tr>\n",
       "  </tbody>\n",
       "</table>\n",
       "</div>"
      ],
      "text/plain": [
       "         Date          Open          High           Low         Close  \\\n",
       "0  2020-11-06  15579.729492  15903.437500  15226.839844  15565.880859   \n",
       "1  2020-11-07  15565.880859  15737.095703  14423.203125  14833.753906   \n",
       "2  2020-11-08  14833.753906  15637.320313  14744.110352  15479.567383   \n",
       "3  2020-11-09  15479.595703  15785.136719  14865.529297  15332.315430   \n",
       "4  2020-11-10  15332.350586  15450.329102  15124.959961  15290.902344   \n",
       "5  2020-11-11  15290.909180  15916.260742  15290.006836  15701.339844   \n",
       "6  2020-11-12  15701.298828  16305.003906  15534.771484  16276.343750   \n",
       "7  2020-11-13  16276.440430  16463.177734  15992.152344  16317.808594   \n",
       "8  2020-11-14  16317.808594  16317.808594  15749.193359  16068.138672   \n",
       "9  2020-11-15  16068.139648  16123.110352  15793.534180  15955.587891   \n",
       "\n",
       "      Adj Close       Volume  \n",
       "0  15565.880859  39837841971  \n",
       "1  14833.753906  35024953706  \n",
       "2  15479.567383  26632075029  \n",
       "3  15332.315430  34149115566  \n",
       "4  15290.902344  25574938143  \n",
       "5  15701.339844  29772374934  \n",
       "6  16276.343750  34175758344  \n",
       "7  16317.808594  31599492172  \n",
       "8  16068.138672  27481710135  \n",
       "9  15955.587891  23653867583  "
      ]
     },
     "execution_count": 6,
     "metadata": {},
     "output_type": "execute_result"
    }
   ],
   "source": [
    "df.head(10) #ilk 10 satırın okunması"
   ]
  },
  {
   "cell_type": "code",
   "execution_count": 7,
   "metadata": {},
   "outputs": [
    {
     "data": {
      "text/html": [
       "<div>\n",
       "<style scoped>\n",
       "    .dataframe tbody tr th:only-of-type {\n",
       "        vertical-align: middle;\n",
       "    }\n",
       "\n",
       "    .dataframe tbody tr th {\n",
       "        vertical-align: top;\n",
       "    }\n",
       "\n",
       "    .dataframe thead th {\n",
       "        text-align: right;\n",
       "    }\n",
       "</style>\n",
       "<table border=\"1\" class=\"dataframe\">\n",
       "  <thead>\n",
       "    <tr style=\"text-align: right;\">\n",
       "      <th></th>\n",
       "      <th>Date</th>\n",
       "      <th>Open</th>\n",
       "      <th>High</th>\n",
       "      <th>Low</th>\n",
       "      <th>Close</th>\n",
       "      <th>Adj Close</th>\n",
       "      <th>Volume</th>\n",
       "    </tr>\n",
       "  </thead>\n",
       "  <tbody>\n",
       "    <tr>\n",
       "      <th>356</th>\n",
       "      <td>2021-10-28</td>\n",
       "      <td>58470.730469</td>\n",
       "      <td>62128.632813</td>\n",
       "      <td>58206.917969</td>\n",
       "      <td>60622.136719</td>\n",
       "      <td>60622.136719</td>\n",
       "      <td>45257083247</td>\n",
       "    </tr>\n",
       "    <tr>\n",
       "      <th>357</th>\n",
       "      <td>2021-10-29</td>\n",
       "      <td>60624.871094</td>\n",
       "      <td>62927.609375</td>\n",
       "      <td>60329.964844</td>\n",
       "      <td>62227.964844</td>\n",
       "      <td>62227.964844</td>\n",
       "      <td>36856881767</td>\n",
       "    </tr>\n",
       "    <tr>\n",
       "      <th>358</th>\n",
       "      <td>2021-10-30</td>\n",
       "      <td>62239.363281</td>\n",
       "      <td>62330.144531</td>\n",
       "      <td>60918.386719</td>\n",
       "      <td>61888.832031</td>\n",
       "      <td>61888.832031</td>\n",
       "      <td>32157938616</td>\n",
       "    </tr>\n",
       "    <tr>\n",
       "      <th>359</th>\n",
       "      <td>2021-10-31</td>\n",
       "      <td>61850.488281</td>\n",
       "      <td>62406.171875</td>\n",
       "      <td>60074.328125</td>\n",
       "      <td>61318.957031</td>\n",
       "      <td>61318.957031</td>\n",
       "      <td>32241199927</td>\n",
       "    </tr>\n",
       "    <tr>\n",
       "      <th>360</th>\n",
       "      <td>2021-11-01</td>\n",
       "      <td>61320.449219</td>\n",
       "      <td>62419.003906</td>\n",
       "      <td>59695.183594</td>\n",
       "      <td>61004.406250</td>\n",
       "      <td>61004.406250</td>\n",
       "      <td>36150572843</td>\n",
       "    </tr>\n",
       "    <tr>\n",
       "      <th>361</th>\n",
       "      <td>2021-11-02</td>\n",
       "      <td>60963.253906</td>\n",
       "      <td>64242.792969</td>\n",
       "      <td>60673.054688</td>\n",
       "      <td>63226.402344</td>\n",
       "      <td>63226.402344</td>\n",
       "      <td>37746665647</td>\n",
       "    </tr>\n",
       "    <tr>\n",
       "      <th>362</th>\n",
       "      <td>2021-11-03</td>\n",
       "      <td>63254.335938</td>\n",
       "      <td>63516.937500</td>\n",
       "      <td>61184.238281</td>\n",
       "      <td>62970.046875</td>\n",
       "      <td>62970.046875</td>\n",
       "      <td>36124731509</td>\n",
       "    </tr>\n",
       "    <tr>\n",
       "      <th>363</th>\n",
       "      <td>2021-11-04</td>\n",
       "      <td>62941.804688</td>\n",
       "      <td>63123.289063</td>\n",
       "      <td>60799.664063</td>\n",
       "      <td>61452.230469</td>\n",
       "      <td>61452.230469</td>\n",
       "      <td>32615846901</td>\n",
       "    </tr>\n",
       "    <tr>\n",
       "      <th>364</th>\n",
       "      <td>2021-11-05</td>\n",
       "      <td>61460.078125</td>\n",
       "      <td>62541.468750</td>\n",
       "      <td>60844.609375</td>\n",
       "      <td>61125.675781</td>\n",
       "      <td>61125.675781</td>\n",
       "      <td>30605102446</td>\n",
       "    </tr>\n",
       "    <tr>\n",
       "      <th>365</th>\n",
       "      <td>2021-11-06</td>\n",
       "      <td>60993.109375</td>\n",
       "      <td>61560.304688</td>\n",
       "      <td>60165.253906</td>\n",
       "      <td>60698.382813</td>\n",
       "      <td>60698.382813</td>\n",
       "      <td>29695062016</td>\n",
       "    </tr>\n",
       "  </tbody>\n",
       "</table>\n",
       "</div>"
      ],
      "text/plain": [
       "           Date          Open          High           Low         Close  \\\n",
       "356  2021-10-28  58470.730469  62128.632813  58206.917969  60622.136719   \n",
       "357  2021-10-29  60624.871094  62927.609375  60329.964844  62227.964844   \n",
       "358  2021-10-30  62239.363281  62330.144531  60918.386719  61888.832031   \n",
       "359  2021-10-31  61850.488281  62406.171875  60074.328125  61318.957031   \n",
       "360  2021-11-01  61320.449219  62419.003906  59695.183594  61004.406250   \n",
       "361  2021-11-02  60963.253906  64242.792969  60673.054688  63226.402344   \n",
       "362  2021-11-03  63254.335938  63516.937500  61184.238281  62970.046875   \n",
       "363  2021-11-04  62941.804688  63123.289063  60799.664063  61452.230469   \n",
       "364  2021-11-05  61460.078125  62541.468750  60844.609375  61125.675781   \n",
       "365  2021-11-06  60993.109375  61560.304688  60165.253906  60698.382813   \n",
       "\n",
       "        Adj Close       Volume  \n",
       "356  60622.136719  45257083247  \n",
       "357  62227.964844  36856881767  \n",
       "358  61888.832031  32157938616  \n",
       "359  61318.957031  32241199927  \n",
       "360  61004.406250  36150572843  \n",
       "361  63226.402344  37746665647  \n",
       "362  62970.046875  36124731509  \n",
       "363  61452.230469  32615846901  \n",
       "364  61125.675781  30605102446  \n",
       "365  60698.382813  29695062016  "
      ]
     },
     "execution_count": 7,
     "metadata": {},
     "output_type": "execute_result"
    }
   ],
   "source": [
    "df.tail(10) #son 10 satırın okunması"
   ]
  },
  {
   "cell_type": "code",
   "execution_count": 8,
   "metadata": {},
   "outputs": [
    {
     "data": {
      "text/plain": [
       "(366, 7)"
      ]
     },
     "execution_count": 8,
     "metadata": {},
     "output_type": "execute_result"
    }
   ],
   "source": [
    "df.shape #veri setimizin kaç satır ve sütundan oluştuğunu gösterir."
   ]
  },
  {
   "cell_type": "code",
   "execution_count": 9,
   "metadata": {},
   "outputs": [
    {
     "data": {
      "text/html": [
       "<div>\n",
       "<style scoped>\n",
       "    .dataframe tbody tr th:only-of-type {\n",
       "        vertical-align: middle;\n",
       "    }\n",
       "\n",
       "    .dataframe tbody tr th {\n",
       "        vertical-align: top;\n",
       "    }\n",
       "\n",
       "    .dataframe thead th {\n",
       "        text-align: right;\n",
       "    }\n",
       "</style>\n",
       "<table border=\"1\" class=\"dataframe\">\n",
       "  <thead>\n",
       "    <tr style=\"text-align: right;\">\n",
       "      <th></th>\n",
       "      <th>Open</th>\n",
       "      <th>High</th>\n",
       "      <th>Low</th>\n",
       "      <th>Close</th>\n",
       "      <th>Adj Close</th>\n",
       "      <th>Volume</th>\n",
       "    </tr>\n",
       "  </thead>\n",
       "  <tbody>\n",
       "    <tr>\n",
       "      <th>count</th>\n",
       "      <td>366.000000</td>\n",
       "      <td>366.000000</td>\n",
       "      <td>366.000000</td>\n",
       "      <td>366.000000</td>\n",
       "      <td>366.000000</td>\n",
       "      <td>3.660000e+02</td>\n",
       "    </tr>\n",
       "    <tr>\n",
       "      <th>mean</th>\n",
       "      <td>42086.460623</td>\n",
       "      <td>43360.457162</td>\n",
       "      <td>40714.301238</td>\n",
       "      <td>42205.560680</td>\n",
       "      <td>42205.560680</td>\n",
       "      <td>4.795419e+10</td>\n",
       "    </tr>\n",
       "    <tr>\n",
       "      <th>std</th>\n",
       "      <td>13235.636033</td>\n",
       "      <td>13483.390560</td>\n",
       "      <td>12935.177785</td>\n",
       "      <td>13203.792203</td>\n",
       "      <td>13203.792203</td>\n",
       "      <td>2.449994e+10</td>\n",
       "    </tr>\n",
       "    <tr>\n",
       "      <th>min</th>\n",
       "      <td>14833.753906</td>\n",
       "      <td>15450.329102</td>\n",
       "      <td>14423.203125</td>\n",
       "      <td>14833.753906</td>\n",
       "      <td>14833.753906</td>\n",
       "      <td>1.878799e+10</td>\n",
       "    </tr>\n",
       "    <tr>\n",
       "      <th>25%</th>\n",
       "      <td>33692.977539</td>\n",
       "      <td>34765.743164</td>\n",
       "      <td>32263.608887</td>\n",
       "      <td>33728.771485</td>\n",
       "      <td>33728.771485</td>\n",
       "      <td>3.340022e+10</td>\n",
       "    </tr>\n",
       "    <tr>\n",
       "      <th>50%</th>\n",
       "      <td>43123.208985</td>\n",
       "      <td>44816.017578</td>\n",
       "      <td>41975.277344</td>\n",
       "      <td>43373.025391</td>\n",
       "      <td>43373.025391</td>\n",
       "      <td>4.283789e+10</td>\n",
       "    </tr>\n",
       "    <tr>\n",
       "      <th>75%</th>\n",
       "      <td>53489.539063</td>\n",
       "      <td>55383.115235</td>\n",
       "      <td>51044.201172</td>\n",
       "      <td>53743.265625</td>\n",
       "      <td>53743.265625</td>\n",
       "      <td>5.851956e+10</td>\n",
       "    </tr>\n",
       "    <tr>\n",
       "      <th>max</th>\n",
       "      <td>66002.234375</td>\n",
       "      <td>66930.390625</td>\n",
       "      <td>63610.675781</td>\n",
       "      <td>65992.835938</td>\n",
       "      <td>65992.835938</td>\n",
       "      <td>3.509679e+11</td>\n",
       "    </tr>\n",
       "  </tbody>\n",
       "</table>\n",
       "</div>"
      ],
      "text/plain": [
       "               Open          High           Low         Close     Adj Close  \\\n",
       "count    366.000000    366.000000    366.000000    366.000000    366.000000   \n",
       "mean   42086.460623  43360.457162  40714.301238  42205.560680  42205.560680   \n",
       "std    13235.636033  13483.390560  12935.177785  13203.792203  13203.792203   \n",
       "min    14833.753906  15450.329102  14423.203125  14833.753906  14833.753906   \n",
       "25%    33692.977539  34765.743164  32263.608887  33728.771485  33728.771485   \n",
       "50%    43123.208985  44816.017578  41975.277344  43373.025391  43373.025391   \n",
       "75%    53489.539063  55383.115235  51044.201172  53743.265625  53743.265625   \n",
       "max    66002.234375  66930.390625  63610.675781  65992.835938  65992.835938   \n",
       "\n",
       "             Volume  \n",
       "count  3.660000e+02  \n",
       "mean   4.795419e+10  \n",
       "std    2.449994e+10  \n",
       "min    1.878799e+10  \n",
       "25%    3.340022e+10  \n",
       "50%    4.283789e+10  \n",
       "75%    5.851956e+10  \n",
       "max    3.509679e+11  "
      ]
     },
     "execution_count": 9,
     "metadata": {},
     "output_type": "execute_result"
    }
   ],
   "source": [
    "df.describe()#Burada  veri setinde istatistiki verilere ulaşabiliyoruz.Ortalama, standart sapma , \n",
    "# min ve max değerler, toplam vs..."
   ]
  },
  {
   "cell_type": "code",
   "execution_count": 10,
   "metadata": {},
   "outputs": [
    {
     "data": {
      "text/plain": [
       "Date         0\n",
       "Open         0\n",
       "High         0\n",
       "Low          0\n",
       "Close        0\n",
       "Adj Close    0\n",
       "Volume       0\n",
       "dtype: int64"
      ]
     },
     "execution_count": 10,
     "metadata": {},
     "output_type": "execute_result"
    }
   ],
   "source": [
    "df.isnull().sum() #hiçbir özellikte eksik veri yok"
   ]
  },
  {
   "cell_type": "code",
   "execution_count": 11,
   "metadata": {},
   "outputs": [
    {
     "data": {
      "text/plain": [
       "0"
      ]
     },
     "execution_count": 11,
     "metadata": {},
     "output_type": "execute_result"
    }
   ],
   "source": [
    "df.isnull().sum().sum() #toplam eksik veri sayısı"
   ]
  },
  {
   "cell_type": "code",
   "execution_count": 12,
   "metadata": {},
   "outputs": [
    {
     "data": {
      "text/plain": [
       "Date         366\n",
       "Open         366\n",
       "High         366\n",
       "Low          366\n",
       "Close        366\n",
       "Adj Close    366\n",
       "Volume       366\n",
       "dtype: int64"
      ]
     },
     "execution_count": 12,
     "metadata": {},
     "output_type": "execute_result"
    }
   ],
   "source": [
    "df.notnull().sum() #boş olmayan değerler"
   ]
  },
  {
   "cell_type": "code",
   "execution_count": 13,
   "metadata": {},
   "outputs": [
    {
     "data": {
      "text/html": [
       "<div>\n",
       "<style scoped>\n",
       "    .dataframe tbody tr th:only-of-type {\n",
       "        vertical-align: middle;\n",
       "    }\n",
       "\n",
       "    .dataframe tbody tr th {\n",
       "        vertical-align: top;\n",
       "    }\n",
       "\n",
       "    .dataframe thead th {\n",
       "        text-align: right;\n",
       "    }\n",
       "</style>\n",
       "<table border=\"1\" class=\"dataframe\">\n",
       "  <thead>\n",
       "    <tr style=\"text-align: right;\">\n",
       "      <th></th>\n",
       "      <th>Date</th>\n",
       "      <th>Open</th>\n",
       "      <th>High</th>\n",
       "      <th>Low</th>\n",
       "      <th>Close</th>\n",
       "      <th>Adj Close</th>\n",
       "      <th>Volume</th>\n",
       "    </tr>\n",
       "  </thead>\n",
       "  <tbody>\n",
       "  </tbody>\n",
       "</table>\n",
       "</div>"
      ],
      "text/plain": [
       "Empty DataFrame\n",
       "Columns: [Date, Open, High, Low, Close, Adj Close, Volume]\n",
       "Index: []"
      ]
     },
     "execution_count": 13,
     "metadata": {},
     "output_type": "execute_result"
    }
   ],
   "source": [
    "df[df.isnull().any(axis=1)] # 1 tane bile eksik veri yok"
   ]
  },
  {
   "cell_type": "code",
   "execution_count": 14,
   "metadata": {},
   "outputs": [
    {
     "name": "stderr",
     "output_type": "stream",
     "text": [
      "ERROR: Invalid requirement: '#missingno'\n"
     ]
    }
   ],
   "source": [
    "!pip install missingno #missingno kütüph. indiriyoruz eksik ver setinin görselleştirme için"
   ]
  },
  {
   "cell_type": "code",
   "execution_count": 15,
   "metadata": {},
   "outputs": [],
   "source": [
    "import missingno as msno"
   ]
  },
  {
   "cell_type": "code",
   "execution_count": 16,
   "metadata": {},
   "outputs": [
    {
     "data": {
      "image/png": "[encoded data removed]",
      "text/plain": [
       "<Figure size 1800x720 with 3 Axes>"
      ]
     },
     "metadata": {
      "needs_background": "light"
     },
     "output_type": "display_data"
    }
   ],
   "source": [
    "msno.bar(df);"
   ]
  },
  {
   "cell_type": "code",
   "execution_count": 17,
   "metadata": {},
   "outputs": [
    {
     "data": {
      "image/png": "[encoded data removed]",
      "text/plain": [
       "<Figure size 1800x720 with 2 Axes>"
      ]
     },
     "metadata": {
      "needs_background": "light"
     },
     "output_type": "display_data"
    }
   ],
   "source": [
    "msno.matrix(df); #eksik veri olmadığının görseli "
   ]
  },
  {
   "cell_type": "markdown",
   "metadata": {},
   "source": [
    "# Aykırı Değer? #"
   ]
  },
  {
   "cell_type": "code",
   "execution_count": 18,
   "metadata": {},
   "outputs": [],
   "source": [
    "df=pd.DataFrame(df) #verimizi dataframe'e çevirdik"
   ]
  },
  {
   "cell_type": "code",
   "execution_count": 19,
   "metadata": {},
   "outputs": [],
   "source": [
    "price=df['Close'] #işlem yapılacak sütun"
   ]
  },
  {
   "cell_type": "code",
   "execution_count": 20,
   "metadata": {},
   "outputs": [
    {
     "data": {
      "text/plain": [
       "0      15565.880859\n",
       "1      14833.753906\n",
       "2      15479.567383\n",
       "3      15332.315430\n",
       "4      15290.902344\n",
       "           ...     \n",
       "361    63226.402344\n",
       "362    62970.046875\n",
       "363    61452.230469\n",
       "364    61125.675781\n",
       "365    60698.382813\n",
       "Name: Close, Length: 366, dtype: float64"
      ]
     },
     "execution_count": 20,
     "metadata": {},
     "output_type": "execute_result"
    }
   ],
   "source": [
    "price"
   ]
  },
  {
   "cell_type": "code",
   "execution_count": 21,
   "metadata": {},
   "outputs": [
    {
     "data": {
      "text/plain": [
       "pandas.core.series.Series"
      ]
     },
     "execution_count": 21,
     "metadata": {},
     "output_type": "execute_result"
    }
   ],
   "source": [
    "type(price)"
   ]
  },
  {
   "cell_type": "code",
   "execution_count": 22,
   "metadata": {},
   "outputs": [
    {
     "data": {
      "text/plain": [
       "0    15565.880859\n",
       "1    14833.753906\n",
       "2    15479.567383\n",
       "3    15332.315430\n",
       "4    15290.902344\n",
       "5    15701.339844\n",
       "6    16276.343750\n",
       "7    16317.808594\n",
       "8    16068.138672\n",
       "9    15955.587891\n",
       "Name: Close, dtype: float64"
      ]
     },
     "execution_count": 22,
     "metadata": {},
     "output_type": "execute_result"
    }
   ],
   "source": [
    "price.iloc[0:10] #ilk 10 veri"
   ]
  },
  {
   "cell_type": "code",
   "execution_count": 23,
   "metadata": {},
   "outputs": [
    {
     "data": {
      "image/png": "[encoded data removed]",
      "text/plain": [
       "<Figure size 432x288 with 1 Axes>"
      ]
     },
     "metadata": {
      "needs_background": "light"
     },
     "output_type": "display_data"
    }
   ],
   "source": [
    "import seaborn as sns\n",
    "sns.boxplot(x=price);"
   ]
  },
  {
   "cell_type": "code",
   "execution_count": 24,
   "metadata": {},
   "outputs": [
    {
     "data": {
      "text/plain": [
       "33728.7714845"
      ]
     },
     "execution_count": 24,
     "metadata": {},
     "output_type": "execute_result"
    }
   ],
   "source": [
    "Q1=price.quantile(0.25)\n",
    "Q3=price.quantile(0.75)\n",
    "IQR=Q3-Q1\n",
    "Q1"
   ]
  },
  {
   "cell_type": "code",
   "execution_count": 25,
   "metadata": {},
   "outputs": [
    {
     "data": {
      "text/plain": [
       "53743.265625"
      ]
     },
     "execution_count": 25,
     "metadata": {},
     "output_type": "execute_result"
    }
   ],
   "source": [
    "Q3"
   ]
  },
  {
   "cell_type": "code",
   "execution_count": 26,
   "metadata": {},
   "outputs": [
    {
     "data": {
      "text/plain": [
       "20014.4941405"
      ]
     },
     "execution_count": 26,
     "metadata": {},
     "output_type": "execute_result"
    }
   ],
   "source": [
    "IQR"
   ]
  },
  {
   "cell_type": "code",
   "execution_count": 27,
   "metadata": {},
   "outputs": [
    {
     "data": {
      "text/plain": [
       "3707.0302737500024"
      ]
     },
     "execution_count": 27,
     "metadata": {},
     "output_type": "execute_result"
    }
   ],
   "source": [
    "alt_sinir=Q1-1.5*IQR\n",
    "ust_sinir=Q3+1.5*IQR\n",
    "alt_sinir"
   ]
  },
  {
   "cell_type": "code",
   "execution_count": 28,
   "metadata": {},
   "outputs": [
    {
     "data": {
      "text/plain": [
       "83765.00683575"
      ]
     },
     "execution_count": 28,
     "metadata": {},
     "output_type": "execute_result"
    }
   ],
   "source": [
    "ust_sinir"
   ]
  },
  {
   "cell_type": "code",
   "execution_count": 29,
   "metadata": {},
   "outputs": [
    {
     "data": {
      "text/plain": [
       "0      False\n",
       "1      False\n",
       "2      False\n",
       "3      False\n",
       "4      False\n",
       "       ...  \n",
       "361    False\n",
       "362    False\n",
       "363    False\n",
       "364    False\n",
       "365    False\n",
       "Name: Close, Length: 366, dtype: bool"
      ]
     },
     "execution_count": 29,
     "metadata": {},
     "output_type": "execute_result"
    }
   ],
   "source": [
    "(price<(alt_sinir))|(price>(ust_sinir)) #aykırı değerlerdir"
   ]
  },
  {
   "cell_type": "code",
   "execution_count": 30,
   "metadata": {},
   "outputs": [
    {
     "data": {
      "text/plain": [
       "0    False\n",
       "1    False\n",
       "2    False\n",
       "3    False\n",
       "4    False\n",
       "5    False\n",
       "6    False\n",
       "7    False\n",
       "8    False\n",
       "9    False\n",
       "Name: Close, dtype: bool"
      ]
     },
     "execution_count": 30,
     "metadata": {},
     "output_type": "execute_result"
    }
   ],
   "source": [
    "aykiri_alt=(price<alt_sinir)\n",
    "aykiri_alt.iloc[0:10]"
   ]
  },
  {
   "cell_type": "code",
   "execution_count": 31,
   "metadata": {},
   "outputs": [
    {
     "data": {
      "text/plain": [
       "Int64Index([], dtype='int64')"
      ]
     },
     "execution_count": 31,
     "metadata": {},
     "output_type": "execute_result"
    }
   ],
   "source": [
    "price[aykiri_alt].index"
   ]
  },
  {
   "cell_type": "code",
   "execution_count": 32,
   "metadata": {},
   "outputs": [
    {
     "data": {
      "text/plain": [
       "0    False\n",
       "1    False\n",
       "2    False\n",
       "3    False\n",
       "4    False\n",
       "5    False\n",
       "6    False\n",
       "7    False\n",
       "8    False\n",
       "9    False\n",
       "Name: Close, dtype: bool"
      ]
     },
     "execution_count": 32,
     "metadata": {},
     "output_type": "execute_result"
    }
   ],
   "source": [
    "aykiri_ust=(price>ust_sinir)\n",
    "aykiri_ust.iloc[0:10]"
   ]
  },
  {
   "cell_type": "code",
   "execution_count": 33,
   "metadata": {},
   "outputs": [
    {
     "data": {
      "text/plain": [
       "Int64Index([], dtype='int64')"
      ]
     },
     "execution_count": 33,
     "metadata": {},
     "output_type": "execute_result"
    }
   ],
   "source": [
    "price[aykiri_ust].index"
   ]
  },
  {
   "cell_type": "code",
   "execution_count": 34,
   "metadata": {},
   "outputs": [
    {
     "data": {
      "text/html": [
       "<div>\n",
       "<style scoped>\n",
       "    .dataframe tbody tr th:only-of-type {\n",
       "        vertical-align: middle;\n",
       "    }\n",
       "\n",
       "    .dataframe tbody tr th {\n",
       "        vertical-align: top;\n",
       "    }\n",
       "\n",
       "    .dataframe thead th {\n",
       "        text-align: right;\n",
       "    }\n",
       "</style>\n",
       "<table border=\"1\" class=\"dataframe\">\n",
       "  <thead>\n",
       "    <tr style=\"text-align: right;\">\n",
       "      <th></th>\n",
       "      <th>Date</th>\n",
       "      <th>Open</th>\n",
       "      <th>High</th>\n",
       "      <th>Low</th>\n",
       "      <th>Close</th>\n",
       "      <th>Adj Close</th>\n",
       "      <th>Volume</th>\n",
       "    </tr>\n",
       "  </thead>\n",
       "  <tbody>\n",
       "    <tr>\n",
       "      <th>0</th>\n",
       "      <td>2020-11-06</td>\n",
       "      <td>15579.729492</td>\n",
       "      <td>15903.437500</td>\n",
       "      <td>15226.839844</td>\n",
       "      <td>15565.880859</td>\n",
       "      <td>15565.880859</td>\n",
       "      <td>39837841971</td>\n",
       "    </tr>\n",
       "    <tr>\n",
       "      <th>1</th>\n",
       "      <td>2020-11-07</td>\n",
       "      <td>15565.880859</td>\n",
       "      <td>15737.095703</td>\n",
       "      <td>14423.203125</td>\n",
       "      <td>14833.753906</td>\n",
       "      <td>14833.753906</td>\n",
       "      <td>35024953706</td>\n",
       "    </tr>\n",
       "    <tr>\n",
       "      <th>2</th>\n",
       "      <td>2020-11-08</td>\n",
       "      <td>14833.753906</td>\n",
       "      <td>15637.320313</td>\n",
       "      <td>14744.110352</td>\n",
       "      <td>15479.567383</td>\n",
       "      <td>15479.567383</td>\n",
       "      <td>26632075029</td>\n",
       "    </tr>\n",
       "    <tr>\n",
       "      <th>3</th>\n",
       "      <td>2020-11-09</td>\n",
       "      <td>15479.595703</td>\n",
       "      <td>15785.136719</td>\n",
       "      <td>14865.529297</td>\n",
       "      <td>15332.315430</td>\n",
       "      <td>15332.315430</td>\n",
       "      <td>34149115566</td>\n",
       "    </tr>\n",
       "    <tr>\n",
       "      <th>4</th>\n",
       "      <td>2020-11-10</td>\n",
       "      <td>15332.350586</td>\n",
       "      <td>15450.329102</td>\n",
       "      <td>15124.959961</td>\n",
       "      <td>15290.902344</td>\n",
       "      <td>15290.902344</td>\n",
       "      <td>25574938143</td>\n",
       "    </tr>\n",
       "    <tr>\n",
       "      <th>...</th>\n",
       "      <td>...</td>\n",
       "      <td>...</td>\n",
       "      <td>...</td>\n",
       "      <td>...</td>\n",
       "      <td>...</td>\n",
       "      <td>...</td>\n",
       "      <td>...</td>\n",
       "    </tr>\n",
       "    <tr>\n",
       "      <th>361</th>\n",
       "      <td>2021-11-02</td>\n",
       "      <td>60963.253906</td>\n",
       "      <td>64242.792969</td>\n",
       "      <td>60673.054688</td>\n",
       "      <td>63226.402344</td>\n",
       "      <td>63226.402344</td>\n",
       "      <td>37746665647</td>\n",
       "    </tr>\n",
       "    <tr>\n",
       "      <th>362</th>\n",
       "      <td>2021-11-03</td>\n",
       "      <td>63254.335938</td>\n",
       "      <td>63516.937500</td>\n",
       "      <td>61184.238281</td>\n",
       "      <td>62970.046875</td>\n",
       "      <td>62970.046875</td>\n",
       "      <td>36124731509</td>\n",
       "    </tr>\n",
       "    <tr>\n",
       "      <th>363</th>\n",
       "      <td>2021-11-04</td>\n",
       "      <td>62941.804688</td>\n",
       "      <td>63123.289063</td>\n",
       "      <td>60799.664063</td>\n",
       "      <td>61452.230469</td>\n",
       "      <td>61452.230469</td>\n",
       "      <td>32615846901</td>\n",
       "    </tr>\n",
       "    <tr>\n",
       "      <th>364</th>\n",
       "      <td>2021-11-05</td>\n",
       "      <td>61460.078125</td>\n",
       "      <td>62541.468750</td>\n",
       "      <td>60844.609375</td>\n",
       "      <td>61125.675781</td>\n",
       "      <td>61125.675781</td>\n",
       "      <td>30605102446</td>\n",
       "    </tr>\n",
       "    <tr>\n",
       "      <th>365</th>\n",
       "      <td>2021-11-06</td>\n",
       "      <td>60993.109375</td>\n",
       "      <td>61560.304688</td>\n",
       "      <td>60165.253906</td>\n",
       "      <td>60698.382813</td>\n",
       "      <td>60698.382813</td>\n",
       "      <td>29695062016</td>\n",
       "    </tr>\n",
       "  </tbody>\n",
       "</table>\n",
       "<p>366 rows × 7 columns</p>\n",
       "</div>"
      ],
      "text/plain": [
       "           Date          Open          High           Low         Close  \\\n",
       "0    2020-11-06  15579.729492  15903.437500  15226.839844  15565.880859   \n",
       "1    2020-11-07  15565.880859  15737.095703  14423.203125  14833.753906   \n",
       "2    2020-11-08  14833.753906  15637.320313  14744.110352  15479.567383   \n",
       "3    2020-11-09  15479.595703  15785.136719  14865.529297  15332.315430   \n",
       "4    2020-11-10  15332.350586  15450.329102  15124.959961  15290.902344   \n",
       "..          ...           ...           ...           ...           ...   \n",
       "361  2021-11-02  60963.253906  64242.792969  60673.054688  63226.402344   \n",
       "362  2021-11-03  63254.335938  63516.937500  61184.238281  62970.046875   \n",
       "363  2021-11-04  62941.804688  63123.289063  60799.664063  61452.230469   \n",
       "364  2021-11-05  61460.078125  62541.468750  60844.609375  61125.675781   \n",
       "365  2021-11-06  60993.109375  61560.304688  60165.253906  60698.382813   \n",
       "\n",
       "        Adj Close       Volume  \n",
       "0    15565.880859  39837841971  \n",
       "1    14833.753906  35024953706  \n",
       "2    15479.567383  26632075029  \n",
       "3    15332.315430  34149115566  \n",
       "4    15290.902344  25574938143  \n",
       "..            ...          ...  \n",
       "361  63226.402344  37746665647  \n",
       "362  62970.046875  36124731509  \n",
       "363  61452.230469  32615846901  \n",
       "364  61125.675781  30605102446  \n",
       "365  60698.382813  29695062016  \n",
       "\n",
       "[366 rows x 7 columns]"
      ]
     },
     "execution_count": 34,
     "metadata": {},
     "output_type": "execute_result"
    }
   ],
   "source": [
    "df"
   ]
  },
  {
   "cell_type": "code",
   "execution_count": 35,
   "metadata": {},
   "outputs": [
    {
     "name": "stdout",
     "output_type": "stream",
     "text": [
      "Collecting package metadata (current_repodata.json): ...working... done\n",
      "Solving environment: ...working... done\n",
      "\n",
      "# All requested packages already installed.\n",
      "\n"
     ]
    }
   ],
   "source": [
    "!conda install -c conda-forge fbprophet -y"
   ]
  },
  {
   "cell_type": "code",
   "execution_count": 36,
   "metadata": {},
   "outputs": [
    {
     "name": "stdout",
     "output_type": "stream",
     "text": [
      "Requirement already up-to-date: plotly in c:\\anaconda3\\lib\\site-packages (5.4.0)\n",
      "Requirement already satisfied, skipping upgrade: tenacity>=6.2.0 in c:\\anaconda3\\lib\\site-packages (from plotly) (8.0.1)\n",
      "Requirement already satisfied, skipping upgrade: six in c:\\anaconda3\\lib\\site-packages (from plotly) (1.15.0)\n"
     ]
    }
   ],
   "source": [
    "!pip install --upgrade plotly"
   ]
  },
  {
   "cell_type": "code",
   "execution_count": 37,
   "metadata": {},
   "outputs": [],
   "source": [
    "from fbprophet import Prophet #facebook prophet kütüphanesi dahil edildi"
   ]
  },
  {
   "cell_type": "code",
   "execution_count": 38,
   "metadata": {},
   "outputs": [
    {
     "data": {
      "text/html": [
       "<div>\n",
       "<style scoped>\n",
       "    .dataframe tbody tr th:only-of-type {\n",
       "        vertical-align: middle;\n",
       "    }\n",
       "\n",
       "    .dataframe tbody tr th {\n",
       "        vertical-align: top;\n",
       "    }\n",
       "\n",
       "    .dataframe thead th {\n",
       "        text-align: right;\n",
       "    }\n",
       "</style>\n",
       "<table border=\"1\" class=\"dataframe\">\n",
       "  <thead>\n",
       "    <tr style=\"text-align: right;\">\n",
       "      <th></th>\n",
       "      <th>Date</th>\n",
       "      <th>Open</th>\n",
       "      <th>High</th>\n",
       "      <th>Low</th>\n",
       "      <th>Close</th>\n",
       "      <th>Adj Close</th>\n",
       "      <th>Volume</th>\n",
       "    </tr>\n",
       "  </thead>\n",
       "  <tbody>\n",
       "    <tr>\n",
       "      <th>0</th>\n",
       "      <td>2020-11-06</td>\n",
       "      <td>15579.729492</td>\n",
       "      <td>15903.437500</td>\n",
       "      <td>15226.839844</td>\n",
       "      <td>15565.880859</td>\n",
       "      <td>15565.880859</td>\n",
       "      <td>39837841971</td>\n",
       "    </tr>\n",
       "    <tr>\n",
       "      <th>1</th>\n",
       "      <td>2020-11-07</td>\n",
       "      <td>15565.880859</td>\n",
       "      <td>15737.095703</td>\n",
       "      <td>14423.203125</td>\n",
       "      <td>14833.753906</td>\n",
       "      <td>14833.753906</td>\n",
       "      <td>35024953706</td>\n",
       "    </tr>\n",
       "    <tr>\n",
       "      <th>2</th>\n",
       "      <td>2020-11-08</td>\n",
       "      <td>14833.753906</td>\n",
       "      <td>15637.320313</td>\n",
       "      <td>14744.110352</td>\n",
       "      <td>15479.567383</td>\n",
       "      <td>15479.567383</td>\n",
       "      <td>26632075029</td>\n",
       "    </tr>\n",
       "    <tr>\n",
       "      <th>3</th>\n",
       "      <td>2020-11-09</td>\n",
       "      <td>15479.595703</td>\n",
       "      <td>15785.136719</td>\n",
       "      <td>14865.529297</td>\n",
       "      <td>15332.315430</td>\n",
       "      <td>15332.315430</td>\n",
       "      <td>34149115566</td>\n",
       "    </tr>\n",
       "    <tr>\n",
       "      <th>4</th>\n",
       "      <td>2020-11-10</td>\n",
       "      <td>15332.350586</td>\n",
       "      <td>15450.329102</td>\n",
       "      <td>15124.959961</td>\n",
       "      <td>15290.902344</td>\n",
       "      <td>15290.902344</td>\n",
       "      <td>25574938143</td>\n",
       "    </tr>\n",
       "    <tr>\n",
       "      <th>...</th>\n",
       "      <td>...</td>\n",
       "      <td>...</td>\n",
       "      <td>...</td>\n",
       "      <td>...</td>\n",
       "      <td>...</td>\n",
       "      <td>...</td>\n",
       "      <td>...</td>\n",
       "    </tr>\n",
       "    <tr>\n",
       "      <th>361</th>\n",
       "      <td>2021-11-02</td>\n",
       "      <td>60963.253906</td>\n",
       "      <td>64242.792969</td>\n",
       "      <td>60673.054688</td>\n",
       "      <td>63226.402344</td>\n",
       "      <td>63226.402344</td>\n",
       "      <td>37746665647</td>\n",
       "    </tr>\n",
       "    <tr>\n",
       "      <th>362</th>\n",
       "      <td>2021-11-03</td>\n",
       "      <td>63254.335938</td>\n",
       "      <td>63516.937500</td>\n",
       "      <td>61184.238281</td>\n",
       "      <td>62970.046875</td>\n",
       "      <td>62970.046875</td>\n",
       "      <td>36124731509</td>\n",
       "    </tr>\n",
       "    <tr>\n",
       "      <th>363</th>\n",
       "      <td>2021-11-04</td>\n",
       "      <td>62941.804688</td>\n",
       "      <td>63123.289063</td>\n",
       "      <td>60799.664063</td>\n",
       "      <td>61452.230469</td>\n",
       "      <td>61452.230469</td>\n",
       "      <td>32615846901</td>\n",
       "    </tr>\n",
       "    <tr>\n",
       "      <th>364</th>\n",
       "      <td>2021-11-05</td>\n",
       "      <td>61460.078125</td>\n",
       "      <td>62541.468750</td>\n",
       "      <td>60844.609375</td>\n",
       "      <td>61125.675781</td>\n",
       "      <td>61125.675781</td>\n",
       "      <td>30605102446</td>\n",
       "    </tr>\n",
       "    <tr>\n",
       "      <th>365</th>\n",
       "      <td>2021-11-06</td>\n",
       "      <td>60993.109375</td>\n",
       "      <td>61560.304688</td>\n",
       "      <td>60165.253906</td>\n",
       "      <td>60698.382813</td>\n",
       "      <td>60698.382813</td>\n",
       "      <td>29695062016</td>\n",
       "    </tr>\n",
       "  </tbody>\n",
       "</table>\n",
       "<p>366 rows × 7 columns</p>\n",
       "</div>"
      ],
      "text/plain": [
       "           Date          Open          High           Low         Close  \\\n",
       "0    2020-11-06  15579.729492  15903.437500  15226.839844  15565.880859   \n",
       "1    2020-11-07  15565.880859  15737.095703  14423.203125  14833.753906   \n",
       "2    2020-11-08  14833.753906  15637.320313  14744.110352  15479.567383   \n",
       "3    2020-11-09  15479.595703  15785.136719  14865.529297  15332.315430   \n",
       "4    2020-11-10  15332.350586  15450.329102  15124.959961  15290.902344   \n",
       "..          ...           ...           ...           ...           ...   \n",
       "361  2021-11-02  60963.253906  64242.792969  60673.054688  63226.402344   \n",
       "362  2021-11-03  63254.335938  63516.937500  61184.238281  62970.046875   \n",
       "363  2021-11-04  62941.804688  63123.289063  60799.664063  61452.230469   \n",
       "364  2021-11-05  61460.078125  62541.468750  60844.609375  61125.675781   \n",
       "365  2021-11-06  60993.109375  61560.304688  60165.253906  60698.382813   \n",
       "\n",
       "        Adj Close       Volume  \n",
       "0    15565.880859  39837841971  \n",
       "1    14833.753906  35024953706  \n",
       "2    15479.567383  26632075029  \n",
       "3    15332.315430  34149115566  \n",
       "4    15290.902344  25574938143  \n",
       "..            ...          ...  \n",
       "361  63226.402344  37746665647  \n",
       "362  62970.046875  36124731509  \n",
       "363  61452.230469  32615846901  \n",
       "364  61125.675781  30605102446  \n",
       "365  60698.382813  29695062016  \n",
       "\n",
       "[366 rows x 7 columns]"
      ]
     },
     "execution_count": 38,
     "metadata": {},
     "output_type": "execute_result"
    }
   ],
   "source": [
    "df"
   ]
  },
  {
   "cell_type": "code",
   "execution_count": 39,
   "metadata": {},
   "outputs": [],
   "source": [
    "df1=df[[\"Date\",\"Close\"]] #Date ve Son işlem yapılan kapanış fiyatı olan bitcoin fiyat sütununu aldık"
   ]
  },
  {
   "cell_type": "code",
   "execution_count": 40,
   "metadata": {},
   "outputs": [
    {
     "data": {
      "text/html": [
       "<div>\n",
       "<style scoped>\n",
       "    .dataframe tbody tr th:only-of-type {\n",
       "        vertical-align: middle;\n",
       "    }\n",
       "\n",
       "    .dataframe tbody tr th {\n",
       "        vertical-align: top;\n",
       "    }\n",
       "\n",
       "    .dataframe thead th {\n",
       "        text-align: right;\n",
       "    }\n",
       "</style>\n",
       "<table border=\"1\" class=\"dataframe\">\n",
       "  <thead>\n",
       "    <tr style=\"text-align: right;\">\n",
       "      <th></th>\n",
       "      <th>Date</th>\n",
       "      <th>Close</th>\n",
       "    </tr>\n",
       "  </thead>\n",
       "  <tbody>\n",
       "    <tr>\n",
       "      <th>0</th>\n",
       "      <td>2020-11-06</td>\n",
       "      <td>15565.880859</td>\n",
       "    </tr>\n",
       "    <tr>\n",
       "      <th>1</th>\n",
       "      <td>2020-11-07</td>\n",
       "      <td>14833.753906</td>\n",
       "    </tr>\n",
       "    <tr>\n",
       "      <th>2</th>\n",
       "      <td>2020-11-08</td>\n",
       "      <td>15479.567383</td>\n",
       "    </tr>\n",
       "    <tr>\n",
       "      <th>3</th>\n",
       "      <td>2020-11-09</td>\n",
       "      <td>15332.315430</td>\n",
       "    </tr>\n",
       "    <tr>\n",
       "      <th>4</th>\n",
       "      <td>2020-11-10</td>\n",
       "      <td>15290.902344</td>\n",
       "    </tr>\n",
       "    <tr>\n",
       "      <th>...</th>\n",
       "      <td>...</td>\n",
       "      <td>...</td>\n",
       "    </tr>\n",
       "    <tr>\n",
       "      <th>361</th>\n",
       "      <td>2021-11-02</td>\n",
       "      <td>63226.402344</td>\n",
       "    </tr>\n",
       "    <tr>\n",
       "      <th>362</th>\n",
       "      <td>2021-11-03</td>\n",
       "      <td>62970.046875</td>\n",
       "    </tr>\n",
       "    <tr>\n",
       "      <th>363</th>\n",
       "      <td>2021-11-04</td>\n",
       "      <td>61452.230469</td>\n",
       "    </tr>\n",
       "    <tr>\n",
       "      <th>364</th>\n",
       "      <td>2021-11-05</td>\n",
       "      <td>61125.675781</td>\n",
       "    </tr>\n",
       "    <tr>\n",
       "      <th>365</th>\n",
       "      <td>2021-11-06</td>\n",
       "      <td>60698.382813</td>\n",
       "    </tr>\n",
       "  </tbody>\n",
       "</table>\n",
       "<p>366 rows × 2 columns</p>\n",
       "</div>"
      ],
      "text/plain": [
       "           Date         Close\n",
       "0    2020-11-06  15565.880859\n",
       "1    2020-11-07  14833.753906\n",
       "2    2020-11-08  15479.567383\n",
       "3    2020-11-09  15332.315430\n",
       "4    2020-11-10  15290.902344\n",
       "..          ...           ...\n",
       "361  2021-11-02  63226.402344\n",
       "362  2021-11-03  62970.046875\n",
       "363  2021-11-04  61452.230469\n",
       "364  2021-11-05  61125.675781\n",
       "365  2021-11-06  60698.382813\n",
       "\n",
       "[366 rows x 2 columns]"
      ]
     },
     "execution_count": 40,
     "metadata": {},
     "output_type": "execute_result"
    }
   ],
   "source": [
    "df1"
   ]
  },
  {
   "cell_type": "code",
   "execution_count": 41,
   "metadata": {},
   "outputs": [
    {
     "data": {
      "image/png": "[encoded data removed]",
      "text/plain": [
       "<Figure size 1152x432 with 1 Axes>"
      ]
     },
     "metadata": {
      "needs_background": "light"
     },
     "output_type": "display_data"
    }
   ],
   "source": [
    "#Tarihe göre bitcoin değerlerinin görselleştirilmesi\n",
    "plt.figure(figsize=(16,6))\n",
    "plt.plot(df1.Date,df1.Close,color=\"orange\",) \n",
    "plt.title(\"Zamana Göre Bitcoin Değerleri\")\n",
    "plt.xlabel(\"Tarih\")\n",
    "plt.ylabel(\"Fiyat\")\n",
    "plt.show()"
   ]
  },
  {
   "cell_type": "code",
   "execution_count": 42,
   "metadata": {},
   "outputs": [
    {
     "data": {
      "text/plain": [
       "<matplotlib.axes._subplots.AxesSubplot at 0x1fbe19be4f0>"
      ]
     },
     "execution_count": 42,
     "metadata": {},
     "output_type": "execute_result"
    },
    {
     "data": {
      "image/png": "[encoded data removed]",
      "text/plain": [
       "<Figure size 432x288 with 1 Axes>"
      ]
     },
     "metadata": {
      "needs_background": "light"
     },
     "output_type": "display_data"
    }
   ],
   "source": [
    "sns.barplot( x= \"Date\", y = df1.Close , data=df1)"
   ]
  },
  {
   "cell_type": "code",
   "execution_count": 43,
   "metadata": {},
   "outputs": [],
   "source": [
    "df2=df1.rename(columns={'Date':'ds','Close':'y'})"
   ]
  },
  {
   "cell_type": "code",
   "execution_count": 44,
   "metadata": {},
   "outputs": [
    {
     "data": {
      "text/html": [
       "<div>\n",
       "<style scoped>\n",
       "    .dataframe tbody tr th:only-of-type {\n",
       "        vertical-align: middle;\n",
       "    }\n",
       "\n",
       "    .dataframe tbody tr th {\n",
       "        vertical-align: top;\n",
       "    }\n",
       "\n",
       "    .dataframe thead th {\n",
       "        text-align: right;\n",
       "    }\n",
       "</style>\n",
       "<table border=\"1\" class=\"dataframe\">\n",
       "  <thead>\n",
       "    <tr style=\"text-align: right;\">\n",
       "      <th></th>\n",
       "      <th>ds</th>\n",
       "      <th>y</th>\n",
       "    </tr>\n",
       "  </thead>\n",
       "  <tbody>\n",
       "    <tr>\n",
       "      <th>0</th>\n",
       "      <td>2020-11-06</td>\n",
       "      <td>15565.880859</td>\n",
       "    </tr>\n",
       "    <tr>\n",
       "      <th>1</th>\n",
       "      <td>2020-11-07</td>\n",
       "      <td>14833.753906</td>\n",
       "    </tr>\n",
       "    <tr>\n",
       "      <th>2</th>\n",
       "      <td>2020-11-08</td>\n",
       "      <td>15479.567383</td>\n",
       "    </tr>\n",
       "    <tr>\n",
       "      <th>3</th>\n",
       "      <td>2020-11-09</td>\n",
       "      <td>15332.315430</td>\n",
       "    </tr>\n",
       "    <tr>\n",
       "      <th>4</th>\n",
       "      <td>2020-11-10</td>\n",
       "      <td>15290.902344</td>\n",
       "    </tr>\n",
       "    <tr>\n",
       "      <th>...</th>\n",
       "      <td>...</td>\n",
       "      <td>...</td>\n",
       "    </tr>\n",
       "    <tr>\n",
       "      <th>361</th>\n",
       "      <td>2021-11-02</td>\n",
       "      <td>63226.402344</td>\n",
       "    </tr>\n",
       "    <tr>\n",
       "      <th>362</th>\n",
       "      <td>2021-11-03</td>\n",
       "      <td>62970.046875</td>\n",
       "    </tr>\n",
       "    <tr>\n",
       "      <th>363</th>\n",
       "      <td>2021-11-04</td>\n",
       "      <td>61452.230469</td>\n",
       "    </tr>\n",
       "    <tr>\n",
       "      <th>364</th>\n",
       "      <td>2021-11-05</td>\n",
       "      <td>61125.675781</td>\n",
       "    </tr>\n",
       "    <tr>\n",
       "      <th>365</th>\n",
       "      <td>2021-11-06</td>\n",
       "      <td>60698.382813</td>\n",
       "    </tr>\n",
       "  </tbody>\n",
       "</table>\n",
       "<p>366 rows × 2 columns</p>\n",
       "</div>"
      ],
      "text/plain": [
       "             ds             y\n",
       "0    2020-11-06  15565.880859\n",
       "1    2020-11-07  14833.753906\n",
       "2    2020-11-08  15479.567383\n",
       "3    2020-11-09  15332.315430\n",
       "4    2020-11-10  15290.902344\n",
       "..          ...           ...\n",
       "361  2021-11-02  63226.402344\n",
       "362  2021-11-03  62970.046875\n",
       "363  2021-11-04  61452.230469\n",
       "364  2021-11-05  61125.675781\n",
       "365  2021-11-06  60698.382813\n",
       "\n",
       "[366 rows x 2 columns]"
      ]
     },
     "execution_count": 44,
     "metadata": {},
     "output_type": "execute_result"
    }
   ],
   "source": [
    "df2"
   ]
  },
  {
   "cell_type": "code",
   "execution_count": 45,
   "metadata": {},
   "outputs": [],
   "source": [
    "from fbprophet import Prophet"
   ]
  },
  {
   "cell_type": "code",
   "execution_count": 46,
   "metadata": {},
   "outputs": [
    {
     "name": "stdout",
     "output_type": "stream",
     "text": [
      "Collecting pystan==2.19.1.1\n",
      "  Downloading pystan-2.19.1.1-cp38-cp38-win_amd64.whl (79.8 MB)\n",
      "Requirement already satisfied: numpy>=1.7 in c:\\anaconda3\\lib\\site-packages (from pystan==2.19.1.1) (1.18.5)\n",
      "Requirement already satisfied: Cython!=0.25.1,>=0.22 in c:\\anaconda3\\lib\\site-packages (from pystan==2.19.1.1) (0.29.21)\n",
      "Installing collected packages: pystan\n",
      "  Attempting uninstall: pystan\n",
      "    Found existing installation: pystan 2.18.0.0\n",
      "    Uninstalling pystan-2.18.0.0:\n",
      "      Successfully uninstalled pystan-2.18.0.0\n",
      "Successfully installed pystan-2.19.1.1\n"
     ]
    },
    {
     "name": "stderr",
     "output_type": "stream",
     "text": [
      "ERROR: fbprophet 0.7.1 requires cmdstanpy==0.9.5, which is not installed.\n",
      "ERROR: fbprophet 0.7.1 requires setuptools-git>=1.2, which is not installed.\n"
     ]
    }
   ],
   "source": [
    "!pip install pystan==2.19.1.1"
   ]
  },
  {
   "cell_type": "code",
   "execution_count": 47,
   "metadata": {},
   "outputs": [],
   "source": [
    "model=Prophet() #prophet model değişkenine atandı"
   ]
  },
  {
   "cell_type": "code",
   "execution_count": 48,
   "metadata": {},
   "outputs": [
    {
     "name": "stderr",
     "output_type": "stream",
     "text": [
      "INFO:fbprophet:Disabling yearly seasonality. Run prophet with yearly_seasonality=True to override this.\n",
      "INFO:fbprophet:Disabling daily seasonality. Run prophet with daily_seasonality=True to override this.\n"
     ]
    },
    {
     "data": {
      "text/plain": [
       "<fbprophet.forecaster.Prophet at 0x1fbe2c1a6d0>"
      ]
     },
     "execution_count": 48,
     "metadata": {},
     "output_type": "execute_result"
    }
   ],
   "source": [
    "model.fit(df2)"
   ]
  },
  {
   "cell_type": "code",
   "execution_count": 49,
   "metadata": {},
   "outputs": [],
   "source": [
    "mfd = model.make_future_dataframe(periods=30) #model nesnesini ve tahmini için birkaç nokta alır ve uygun bir veri çerçevesi oluşturur\n",
    "#gelecek 30 gün için"
   ]
  },
  {
   "cell_type": "code",
   "execution_count": 50,
   "metadata": {},
   "outputs": [],
   "source": [
    "pred= model.predict(mfd) #tahminleme işlemi yapılıyor"
   ]
  },
  {
   "cell_type": "code",
   "execution_count": 52,
   "metadata": {},
   "outputs": [
    {
     "data": {
      "text/html": [
       "<div>\n",
       "<style scoped>\n",
       "    .dataframe tbody tr th:only-of-type {\n",
       "        vertical-align: middle;\n",
       "    }\n",
       "\n",
       "    .dataframe tbody tr th {\n",
       "        vertical-align: top;\n",
       "    }\n",
       "\n",
       "    .dataframe thead th {\n",
       "        text-align: right;\n",
       "    }\n",
       "</style>\n",
       "<table border=\"1\" class=\"dataframe\">\n",
       "  <thead>\n",
       "    <tr style=\"text-align: right;\">\n",
       "      <th></th>\n",
       "      <th>ds</th>\n",
       "      <th>trend</th>\n",
       "      <th>yhat_lower</th>\n",
       "      <th>yhat_upper</th>\n",
       "      <th>trend_lower</th>\n",
       "      <th>trend_upper</th>\n",
       "      <th>additive_terms</th>\n",
       "      <th>additive_terms_lower</th>\n",
       "      <th>additive_terms_upper</th>\n",
       "      <th>weekly</th>\n",
       "      <th>weekly_lower</th>\n",
       "      <th>weekly_upper</th>\n",
       "      <th>multiplicative_terms</th>\n",
       "      <th>multiplicative_terms_lower</th>\n",
       "      <th>multiplicative_terms_upper</th>\n",
       "      <th>yhat</th>\n",
       "    </tr>\n",
       "  </thead>\n",
       "  <tbody>\n",
       "    <tr>\n",
       "      <th>0</th>\n",
       "      <td>2020-11-06</td>\n",
       "      <td>11357.936200</td>\n",
       "      <td>6235.712164</td>\n",
       "      <td>16515.066729</td>\n",
       "      <td>11357.936200</td>\n",
       "      <td>11357.936200</td>\n",
       "      <td>223.137946</td>\n",
       "      <td>223.137946</td>\n",
       "      <td>223.137946</td>\n",
       "      <td>223.137946</td>\n",
       "      <td>223.137946</td>\n",
       "      <td>223.137946</td>\n",
       "      <td>0.0</td>\n",
       "      <td>0.0</td>\n",
       "      <td>0.0</td>\n",
       "      <td>11581.074146</td>\n",
       "    </tr>\n",
       "    <tr>\n",
       "      <th>1</th>\n",
       "      <td>2020-11-07</td>\n",
       "      <td>11694.699823</td>\n",
       "      <td>6663.928635</td>\n",
       "      <td>16991.596148</td>\n",
       "      <td>11694.699823</td>\n",
       "      <td>11694.699823</td>\n",
       "      <td>163.681713</td>\n",
       "      <td>163.681713</td>\n",
       "      <td>163.681713</td>\n",
       "      <td>163.681713</td>\n",
       "      <td>163.681713</td>\n",
       "      <td>163.681713</td>\n",
       "      <td>0.0</td>\n",
       "      <td>0.0</td>\n",
       "      <td>0.0</td>\n",
       "      <td>11858.381536</td>\n",
       "    </tr>\n",
       "    <tr>\n",
       "      <th>2</th>\n",
       "      <td>2020-11-08</td>\n",
       "      <td>12031.463446</td>\n",
       "      <td>6930.921707</td>\n",
       "      <td>17000.295097</td>\n",
       "      <td>12031.463446</td>\n",
       "      <td>12031.463446</td>\n",
       "      <td>47.404504</td>\n",
       "      <td>47.404504</td>\n",
       "      <td>47.404504</td>\n",
       "      <td>47.404504</td>\n",
       "      <td>47.404504</td>\n",
       "      <td>47.404504</td>\n",
       "      <td>0.0</td>\n",
       "      <td>0.0</td>\n",
       "      <td>0.0</td>\n",
       "      <td>12078.867949</td>\n",
       "    </tr>\n",
       "    <tr>\n",
       "      <th>3</th>\n",
       "      <td>2020-11-09</td>\n",
       "      <td>12368.227069</td>\n",
       "      <td>7565.368625</td>\n",
       "      <td>17576.858813</td>\n",
       "      <td>12368.227069</td>\n",
       "      <td>12368.227069</td>\n",
       "      <td>-51.648661</td>\n",
       "      <td>-51.648661</td>\n",
       "      <td>-51.648661</td>\n",
       "      <td>-51.648661</td>\n",
       "      <td>-51.648661</td>\n",
       "      <td>-51.648661</td>\n",
       "      <td>0.0</td>\n",
       "      <td>0.0</td>\n",
       "      <td>0.0</td>\n",
       "      <td>12316.578408</td>\n",
       "    </tr>\n",
       "    <tr>\n",
       "      <th>4</th>\n",
       "      <td>2020-11-10</td>\n",
       "      <td>12704.990692</td>\n",
       "      <td>7279.295157</td>\n",
       "      <td>17812.112779</td>\n",
       "      <td>12704.990692</td>\n",
       "      <td>12704.990692</td>\n",
       "      <td>-238.036738</td>\n",
       "      <td>-238.036738</td>\n",
       "      <td>-238.036738</td>\n",
       "      <td>-238.036738</td>\n",
       "      <td>-238.036738</td>\n",
       "      <td>-238.036738</td>\n",
       "      <td>0.0</td>\n",
       "      <td>0.0</td>\n",
       "      <td>0.0</td>\n",
       "      <td>12466.953953</td>\n",
       "    </tr>\n",
       "    <tr>\n",
       "      <th>5</th>\n",
       "      <td>2020-11-11</td>\n",
       "      <td>13041.754315</td>\n",
       "      <td>7831.772790</td>\n",
       "      <td>18291.287372</td>\n",
       "      <td>13041.754315</td>\n",
       "      <td>13041.754315</td>\n",
       "      <td>12.597071</td>\n",
       "      <td>12.597071</td>\n",
       "      <td>12.597071</td>\n",
       "      <td>12.597071</td>\n",
       "      <td>12.597071</td>\n",
       "      <td>12.597071</td>\n",
       "      <td>0.0</td>\n",
       "      <td>0.0</td>\n",
       "      <td>0.0</td>\n",
       "      <td>13054.351386</td>\n",
       "    </tr>\n",
       "    <tr>\n",
       "      <th>6</th>\n",
       "      <td>2020-11-12</td>\n",
       "      <td>13378.517938</td>\n",
       "      <td>8454.560666</td>\n",
       "      <td>18490.519700</td>\n",
       "      <td>13378.517938</td>\n",
       "      <td>13378.517938</td>\n",
       "      <td>-157.135835</td>\n",
       "      <td>-157.135835</td>\n",
       "      <td>-157.135835</td>\n",
       "      <td>-157.135835</td>\n",
       "      <td>-157.135835</td>\n",
       "      <td>-157.135835</td>\n",
       "      <td>0.0</td>\n",
       "      <td>0.0</td>\n",
       "      <td>0.0</td>\n",
       "      <td>13221.382103</td>\n",
       "    </tr>\n",
       "    <tr>\n",
       "      <th>7</th>\n",
       "      <td>2020-11-13</td>\n",
       "      <td>13715.281561</td>\n",
       "      <td>8784.099212</td>\n",
       "      <td>19035.675650</td>\n",
       "      <td>13715.281561</td>\n",
       "      <td>13715.281561</td>\n",
       "      <td>223.137946</td>\n",
       "      <td>223.137946</td>\n",
       "      <td>223.137946</td>\n",
       "      <td>223.137946</td>\n",
       "      <td>223.137946</td>\n",
       "      <td>223.137946</td>\n",
       "      <td>0.0</td>\n",
       "      <td>0.0</td>\n",
       "      <td>0.0</td>\n",
       "      <td>13938.419507</td>\n",
       "    </tr>\n",
       "    <tr>\n",
       "      <th>8</th>\n",
       "      <td>2020-11-14</td>\n",
       "      <td>14052.045184</td>\n",
       "      <td>9390.384337</td>\n",
       "      <td>19573.974160</td>\n",
       "      <td>14052.045184</td>\n",
       "      <td>14052.045184</td>\n",
       "      <td>163.681713</td>\n",
       "      <td>163.681713</td>\n",
       "      <td>163.681713</td>\n",
       "      <td>163.681713</td>\n",
       "      <td>163.681713</td>\n",
       "      <td>163.681713</td>\n",
       "      <td>0.0</td>\n",
       "      <td>0.0</td>\n",
       "      <td>0.0</td>\n",
       "      <td>14215.726897</td>\n",
       "    </tr>\n",
       "    <tr>\n",
       "      <th>9</th>\n",
       "      <td>2020-11-15</td>\n",
       "      <td>14388.808807</td>\n",
       "      <td>9637.639405</td>\n",
       "      <td>19568.688422</td>\n",
       "      <td>14388.808807</td>\n",
       "      <td>14388.808807</td>\n",
       "      <td>47.404504</td>\n",
       "      <td>47.404504</td>\n",
       "      <td>47.404504</td>\n",
       "      <td>47.404504</td>\n",
       "      <td>47.404504</td>\n",
       "      <td>47.404504</td>\n",
       "      <td>0.0</td>\n",
       "      <td>0.0</td>\n",
       "      <td>0.0</td>\n",
       "      <td>14436.213311</td>\n",
       "    </tr>\n",
       "  </tbody>\n",
       "</table>\n",
       "</div>"
      ],
      "text/plain": [
       "          ds         trend   yhat_lower    yhat_upper   trend_lower  \\\n",
       "0 2020-11-06  11357.936200  6235.712164  16515.066729  11357.936200   \n",
       "1 2020-11-07  11694.699823  6663.928635  16991.596148  11694.699823   \n",
       "2 2020-11-08  12031.463446  6930.921707  17000.295097  12031.463446   \n",
       "3 2020-11-09  12368.227069  7565.368625  17576.858813  12368.227069   \n",
       "4 2020-11-10  12704.990692  7279.295157  17812.112779  12704.990692   \n",
       "5 2020-11-11  13041.754315  7831.772790  18291.287372  13041.754315   \n",
       "6 2020-11-12  13378.517938  8454.560666  18490.519700  13378.517938   \n",
       "7 2020-11-13  13715.281561  8784.099212  19035.675650  13715.281561   \n",
       "8 2020-11-14  14052.045184  9390.384337  19573.974160  14052.045184   \n",
       "9 2020-11-15  14388.808807  9637.639405  19568.688422  14388.808807   \n",
       "\n",
       "    trend_upper  additive_terms  additive_terms_lower  additive_terms_upper  \\\n",
       "0  11357.936200      223.137946            223.137946            223.137946   \n",
       "1  11694.699823      163.681713            163.681713            163.681713   \n",
       "2  12031.463446       47.404504             47.404504             47.404504   \n",
       "3  12368.227069      -51.648661            -51.648661            -51.648661   \n",
       "4  12704.990692     -238.036738           -238.036738           -238.036738   \n",
       "5  13041.754315       12.597071             12.597071             12.597071   \n",
       "6  13378.517938     -157.135835           -157.135835           -157.135835   \n",
       "7  13715.281561      223.137946            223.137946            223.137946   \n",
       "8  14052.045184      163.681713            163.681713            163.681713   \n",
       "9  14388.808807       47.404504             47.404504             47.404504   \n",
       "\n",
       "       weekly  weekly_lower  weekly_upper  multiplicative_terms  \\\n",
       "0  223.137946    223.137946    223.137946                   0.0   \n",
       "1  163.681713    163.681713    163.681713                   0.0   \n",
       "2   47.404504     47.404504     47.404504                   0.0   \n",
       "3  -51.648661    -51.648661    -51.648661                   0.0   \n",
       "4 -238.036738   -238.036738   -238.036738                   0.0   \n",
       "5   12.597071     12.597071     12.597071                   0.0   \n",
       "6 -157.135835   -157.135835   -157.135835                   0.0   \n",
       "7  223.137946    223.137946    223.137946                   0.0   \n",
       "8  163.681713    163.681713    163.681713                   0.0   \n",
       "9   47.404504     47.404504     47.404504                   0.0   \n",
       "\n",
       "   multiplicative_terms_lower  multiplicative_terms_upper          yhat  \n",
       "0                         0.0                         0.0  11581.074146  \n",
       "1                         0.0                         0.0  11858.381536  \n",
       "2                         0.0                         0.0  12078.867949  \n",
       "3                         0.0                         0.0  12316.578408  \n",
       "4                         0.0                         0.0  12466.953953  \n",
       "5                         0.0                         0.0  13054.351386  \n",
       "6                         0.0                         0.0  13221.382103  \n",
       "7                         0.0                         0.0  13938.419507  \n",
       "8                         0.0                         0.0  14215.726897  \n",
       "9                         0.0                         0.0  14436.213311  "
      ]
     },
     "execution_count": 52,
     "metadata": {},
     "output_type": "execute_result"
    }
   ],
   "source": [
    "pred.head(10)"
   ]
  },
  {
   "cell_type": "code",
   "execution_count": 53,
   "metadata": {},
   "outputs": [
    {
     "data": {
      "text/html": [
       "<div>\n",
       "<style scoped>\n",
       "    .dataframe tbody tr th:only-of-type {\n",
       "        vertical-align: middle;\n",
       "    }\n",
       "\n",
       "    .dataframe tbody tr th {\n",
       "        vertical-align: top;\n",
       "    }\n",
       "\n",
       "    .dataframe thead th {\n",
       "        text-align: right;\n",
       "    }\n",
       "</style>\n",
       "<table border=\"1\" class=\"dataframe\">\n",
       "  <thead>\n",
       "    <tr style=\"text-align: right;\">\n",
       "      <th></th>\n",
       "      <th>ds</th>\n",
       "      <th>trend</th>\n",
       "      <th>yhat_lower</th>\n",
       "      <th>yhat_upper</th>\n",
       "      <th>trend_lower</th>\n",
       "      <th>trend_upper</th>\n",
       "      <th>additive_terms</th>\n",
       "      <th>additive_terms_lower</th>\n",
       "      <th>additive_terms_upper</th>\n",
       "      <th>weekly</th>\n",
       "      <th>weekly_lower</th>\n",
       "      <th>weekly_upper</th>\n",
       "      <th>multiplicative_terms</th>\n",
       "      <th>multiplicative_terms_lower</th>\n",
       "      <th>multiplicative_terms_upper</th>\n",
       "      <th>yhat</th>\n",
       "    </tr>\n",
       "  </thead>\n",
       "  <tbody>\n",
       "    <tr>\n",
       "      <th>386</th>\n",
       "      <td>2021-11-27</td>\n",
       "      <td>65751.801002</td>\n",
       "      <td>60965.344080</td>\n",
       "      <td>71278.878027</td>\n",
       "      <td>64707.509338</td>\n",
       "      <td>66928.825831</td>\n",
       "      <td>163.681713</td>\n",
       "      <td>163.681713</td>\n",
       "      <td>163.681713</td>\n",
       "      <td>163.681713</td>\n",
       "      <td>163.681713</td>\n",
       "      <td>163.681713</td>\n",
       "      <td>0.0</td>\n",
       "      <td>0.0</td>\n",
       "      <td>0.0</td>\n",
       "      <td>65915.482716</td>\n",
       "    </tr>\n",
       "    <tr>\n",
       "      <th>387</th>\n",
       "      <td>2021-11-28</td>\n",
       "      <td>65977.242746</td>\n",
       "      <td>60692.534210</td>\n",
       "      <td>71411.870755</td>\n",
       "      <td>64860.660745</td>\n",
       "      <td>67263.488864</td>\n",
       "      <td>47.404504</td>\n",
       "      <td>47.404504</td>\n",
       "      <td>47.404504</td>\n",
       "      <td>47.404504</td>\n",
       "      <td>47.404504</td>\n",
       "      <td>47.404504</td>\n",
       "      <td>0.0</td>\n",
       "      <td>0.0</td>\n",
       "      <td>0.0</td>\n",
       "      <td>66024.647249</td>\n",
       "    </tr>\n",
       "    <tr>\n",
       "      <th>388</th>\n",
       "      <td>2021-11-29</td>\n",
       "      <td>66202.684489</td>\n",
       "      <td>60873.648199</td>\n",
       "      <td>71704.957048</td>\n",
       "      <td>64979.390115</td>\n",
       "      <td>67616.579972</td>\n",
       "      <td>-51.648661</td>\n",
       "      <td>-51.648661</td>\n",
       "      <td>-51.648661</td>\n",
       "      <td>-51.648661</td>\n",
       "      <td>-51.648661</td>\n",
       "      <td>-51.648661</td>\n",
       "      <td>0.0</td>\n",
       "      <td>0.0</td>\n",
       "      <td>0.0</td>\n",
       "      <td>66151.035828</td>\n",
       "    </tr>\n",
       "    <tr>\n",
       "      <th>389</th>\n",
       "      <td>2021-11-30</td>\n",
       "      <td>66428.126233</td>\n",
       "      <td>61010.802176</td>\n",
       "      <td>71900.088580</td>\n",
       "      <td>65120.530478</td>\n",
       "      <td>67908.592589</td>\n",
       "      <td>-238.036738</td>\n",
       "      <td>-238.036738</td>\n",
       "      <td>-238.036738</td>\n",
       "      <td>-238.036738</td>\n",
       "      <td>-238.036738</td>\n",
       "      <td>-238.036738</td>\n",
       "      <td>0.0</td>\n",
       "      <td>0.0</td>\n",
       "      <td>0.0</td>\n",
       "      <td>66190.089494</td>\n",
       "    </tr>\n",
       "    <tr>\n",
       "      <th>390</th>\n",
       "      <td>2021-12-01</td>\n",
       "      <td>66653.567976</td>\n",
       "      <td>61285.511123</td>\n",
       "      <td>72256.885800</td>\n",
       "      <td>65260.940239</td>\n",
       "      <td>68224.985658</td>\n",
       "      <td>12.597071</td>\n",
       "      <td>12.597071</td>\n",
       "      <td>12.597071</td>\n",
       "      <td>12.597071</td>\n",
       "      <td>12.597071</td>\n",
       "      <td>12.597071</td>\n",
       "      <td>0.0</td>\n",
       "      <td>0.0</td>\n",
       "      <td>0.0</td>\n",
       "      <td>66666.165047</td>\n",
       "    </tr>\n",
       "    <tr>\n",
       "      <th>391</th>\n",
       "      <td>2021-12-02</td>\n",
       "      <td>66879.009719</td>\n",
       "      <td>61352.142891</td>\n",
       "      <td>71975.005018</td>\n",
       "      <td>65400.771957</td>\n",
       "      <td>68555.591097</td>\n",
       "      <td>-157.135835</td>\n",
       "      <td>-157.135835</td>\n",
       "      <td>-157.135835</td>\n",
       "      <td>-157.135835</td>\n",
       "      <td>-157.135835</td>\n",
       "      <td>-157.135835</td>\n",
       "      <td>0.0</td>\n",
       "      <td>0.0</td>\n",
       "      <td>0.0</td>\n",
       "      <td>66721.873885</td>\n",
       "    </tr>\n",
       "    <tr>\n",
       "      <th>392</th>\n",
       "      <td>2021-12-03</td>\n",
       "      <td>67104.451463</td>\n",
       "      <td>61991.864110</td>\n",
       "      <td>72686.993432</td>\n",
       "      <td>65507.862276</td>\n",
       "      <td>68864.351151</td>\n",
       "      <td>223.137946</td>\n",
       "      <td>223.137946</td>\n",
       "      <td>223.137946</td>\n",
       "      <td>223.137946</td>\n",
       "      <td>223.137946</td>\n",
       "      <td>223.137946</td>\n",
       "      <td>0.0</td>\n",
       "      <td>0.0</td>\n",
       "      <td>0.0</td>\n",
       "      <td>67327.589409</td>\n",
       "    </tr>\n",
       "    <tr>\n",
       "      <th>393</th>\n",
       "      <td>2021-12-04</td>\n",
       "      <td>67329.893206</td>\n",
       "      <td>61802.839748</td>\n",
       "      <td>73278.289892</td>\n",
       "      <td>65649.420674</td>\n",
       "      <td>69230.406398</td>\n",
       "      <td>163.681713</td>\n",
       "      <td>163.681713</td>\n",
       "      <td>163.681713</td>\n",
       "      <td>163.681713</td>\n",
       "      <td>163.681713</td>\n",
       "      <td>163.681713</td>\n",
       "      <td>0.0</td>\n",
       "      <td>0.0</td>\n",
       "      <td>0.0</td>\n",
       "      <td>67493.574919</td>\n",
       "    </tr>\n",
       "    <tr>\n",
       "      <th>394</th>\n",
       "      <td>2021-12-05</td>\n",
       "      <td>67555.334950</td>\n",
       "      <td>61996.018111</td>\n",
       "      <td>73044.544893</td>\n",
       "      <td>65797.822508</td>\n",
       "      <td>69602.262427</td>\n",
       "      <td>47.404504</td>\n",
       "      <td>47.404504</td>\n",
       "      <td>47.404504</td>\n",
       "      <td>47.404504</td>\n",
       "      <td>47.404504</td>\n",
       "      <td>47.404504</td>\n",
       "      <td>0.0</td>\n",
       "      <td>0.0</td>\n",
       "      <td>0.0</td>\n",
       "      <td>67602.739453</td>\n",
       "    </tr>\n",
       "    <tr>\n",
       "      <th>395</th>\n",
       "      <td>2021-12-06</td>\n",
       "      <td>67780.776693</td>\n",
       "      <td>62441.677822</td>\n",
       "      <td>73358.155153</td>\n",
       "      <td>65946.470129</td>\n",
       "      <td>69924.841658</td>\n",
       "      <td>-51.648661</td>\n",
       "      <td>-51.648661</td>\n",
       "      <td>-51.648661</td>\n",
       "      <td>-51.648661</td>\n",
       "      <td>-51.648661</td>\n",
       "      <td>-51.648661</td>\n",
       "      <td>0.0</td>\n",
       "      <td>0.0</td>\n",
       "      <td>0.0</td>\n",
       "      <td>67729.128032</td>\n",
       "    </tr>\n",
       "  </tbody>\n",
       "</table>\n",
       "</div>"
      ],
      "text/plain": [
       "            ds         trend    yhat_lower    yhat_upper   trend_lower  \\\n",
       "386 2021-11-27  65751.801002  60965.344080  71278.878027  64707.509338   \n",
       "387 2021-11-28  65977.242746  60692.534210  71411.870755  64860.660745   \n",
       "388 2021-11-29  66202.684489  60873.648199  71704.957048  64979.390115   \n",
       "389 2021-11-30  66428.126233  61010.802176  71900.088580  65120.530478   \n",
       "390 2021-12-01  66653.567976  61285.511123  72256.885800  65260.940239   \n",
       "391 2021-12-02  66879.009719  61352.142891  71975.005018  65400.771957   \n",
       "392 2021-12-03  67104.451463  61991.864110  72686.993432  65507.862276   \n",
       "393 2021-12-04  67329.893206  61802.839748  73278.289892  65649.420674   \n",
       "394 2021-12-05  67555.334950  61996.018111  73044.544893  65797.822508   \n",
       "395 2021-12-06  67780.776693  62441.677822  73358.155153  65946.470129   \n",
       "\n",
       "      trend_upper  additive_terms  additive_terms_lower  additive_terms_upper  \\\n",
       "386  66928.825831      163.681713            163.681713            163.681713   \n",
       "387  67263.488864       47.404504             47.404504             47.404504   \n",
       "388  67616.579972      -51.648661            -51.648661            -51.648661   \n",
       "389  67908.592589     -238.036738           -238.036738           -238.036738   \n",
       "390  68224.985658       12.597071             12.597071             12.597071   \n",
       "391  68555.591097     -157.135835           -157.135835           -157.135835   \n",
       "392  68864.351151      223.137946            223.137946            223.137946   \n",
       "393  69230.406398      163.681713            163.681713            163.681713   \n",
       "394  69602.262427       47.404504             47.404504             47.404504   \n",
       "395  69924.841658      -51.648661            -51.648661            -51.648661   \n",
       "\n",
       "         weekly  weekly_lower  weekly_upper  multiplicative_terms  \\\n",
       "386  163.681713    163.681713    163.681713                   0.0   \n",
       "387   47.404504     47.404504     47.404504                   0.0   \n",
       "388  -51.648661    -51.648661    -51.648661                   0.0   \n",
       "389 -238.036738   -238.036738   -238.036738                   0.0   \n",
       "390   12.597071     12.597071     12.597071                   0.0   \n",
       "391 -157.135835   -157.135835   -157.135835                   0.0   \n",
       "392  223.137946    223.137946    223.137946                   0.0   \n",
       "393  163.681713    163.681713    163.681713                   0.0   \n",
       "394   47.404504     47.404504     47.404504                   0.0   \n",
       "395  -51.648661    -51.648661    -51.648661                   0.0   \n",
       "\n",
       "     multiplicative_terms_lower  multiplicative_terms_upper          yhat  \n",
       "386                         0.0                         0.0  65915.482716  \n",
       "387                         0.0                         0.0  66024.647249  \n",
       "388                         0.0                         0.0  66151.035828  \n",
       "389                         0.0                         0.0  66190.089494  \n",
       "390                         0.0                         0.0  66666.165047  \n",
       "391                         0.0                         0.0  66721.873885  \n",
       "392                         0.0                         0.0  67327.589409  \n",
       "393                         0.0                         0.0  67493.574919  \n",
       "394                         0.0                         0.0  67602.739453  \n",
       "395                         0.0                         0.0  67729.128032  "
      ]
     },
     "execution_count": 53,
     "metadata": {},
     "output_type": "execute_result"
    }
   ],
   "source": [
    "pred.tail(10)"
   ]
  },
  {
   "cell_type": "code",
   "execution_count": 55,
   "metadata": {},
   "outputs": [
    {
     "data": {
      "image/png": "[encoded data removed]",
      "text/plain": [
       "<Figure size 720x432 with 1 Axes>"
      ]
     },
     "metadata": {},
     "output_type": "display_data"
    }
   ],
   "source": [
    "model.plot(pred)\n",
    "plt.title(\"Gerçek Değer ve Tahmin Edilen Değer Grafiği\")\n",
    "plt.xlabel(\"Tarih\")\n",
    "plt.ylabel(\"Fiyat\")\n",
    "plt.show()"
   ]
  },
  {
   "cell_type": "code",
   "execution_count": 64,
   "metadata": {},
   "outputs": [
    {
     "data": {
      "image/png": "[encoded data removed]",
      "text/plain": [
       "<Figure size 648x432 with 2 Axes>"
      ]
     },
     "metadata": {},
     "output_type": "display_data"
    }
   ],
   "source": [
    "visulation=model.plot_components(pred) #Tahmin bileşenleri haftalık"
   ]
  },
  {
   "cell_type": "markdown",
   "metadata": {},
   "source": []
  },
  {
   "cell_type": "code",
   "execution_count": null,
   "metadata": {},
   "outputs": [],
   "source": []
  }
 ],
 "metadata": {
  "kernelspec": {
   "display_name": "Python 3",
   "language": "python",
   "name": "python3"
  },
  "language_info": {
   "codemirror_mode": {
    "name": "ipython",
    "version": 3
   },
   "file_extension": ".py",
   "mimetype": "text/x-python",
   "name": "python",
   "nbconvert_exporter": "python",
   "pygments_lexer": "ipython3",
   "version": "3.8.3"
  }
 },
 "nbformat": 4,
 "nbformat_minor": 4
}
